{
 "cells": [
  {
   "cell_type": "code",
   "execution_count": 2,
   "id": "0fe72c5c",
   "metadata": {},
   "outputs": [
    {
     "name": "stdout",
     "output_type": "stream",
     "text": [
      "-3.06\n"
     ]
    }
   ],
   "source": [
    "import numpy as np\n",
    "x = [50, 720]\n",
    "w = [0.01, 0.002]\n",
    "b = -5\n",
    "z = np.dot(w,x) + b\n",
    "print(z)"
   ]
  },
  {
   "cell_type": "code",
   "execution_count": 34,
   "id": "630eff96",
   "metadata": {},
   "outputs": [],
   "source": [
    "def sigma(x):\n",
    "    return 1/(1+np.power(np.e, -x))"
   ]
  },
  {
   "cell_type": "code",
   "execution_count": 35,
   "id": "32b06220",
   "metadata": {},
   "outputs": [
    {
     "name": "stdout",
     "output_type": "stream",
     "text": [
      "[0.09975049 0.31002552 0.11920292]\n"
     ]
    }
   ],
   "source": [
    "X=[[4,100,0], [1,50,1], [10,200,0]]\n",
    "w = [0.2, -0.01, 1.5]\n",
    "b = -2\n",
    "\n",
    "print(sigma(np.dot(X,w) + b))\n"
   ]
  },
  {
   "cell_type": "code",
   "execution_count": 36,
   "id": "eab2b531",
   "metadata": {},
   "outputs": [
    {
     "name": "stdout",
     "output_type": "stream",
     "text": [
      "[0.18242552 0.62245933 0.92414182]\n"
     ]
    }
   ],
   "source": [
    "X = [[2, 70], [5,80], [8,90]]\n",
    "w = [0.5, 0.05]\n",
    "b = -6\n",
    "\n",
    "print(sigma(np.dot(X,w) + b))"
   ]
  },
  {
   "cell_type": "code",
   "execution_count": 42,
   "id": "ec3ce3dc",
   "metadata": {},
   "outputs": [
    {
     "name": "stdout",
     "output_type": "stream",
     "text": [
      "[0.99954738 0.92414182 0.99183743]\n",
      "Liked (yes = 1, no = 0): [1 1 1]\n"
     ]
    }
   ],
   "source": [
    "X = [[8, 2, 2], [3, 6, 1.5], [6, 1, 2.5]]\n",
    "w = [1.2, 0.1, -0.8]\n",
    "b = -0.5\n",
    "\n",
    "result = sigma(np.dot(X,w) + b)\n",
    "print(result)\n",
    "predictions = (result >= 0.5).astype(int)\n",
    "print(\"Liked (yes = 1, no = 0):\", predictions)"
   ]
  },
  {
   "cell_type": "code",
   "execution_count": 41,
   "id": "0ce9d716",
   "metadata": {},
   "outputs": [
    {
     "name": "stdout",
     "output_type": "stream",
     "text": [
      "0.12346704756522399\n"
     ]
    }
   ],
   "source": [
    "X = [50, 28, 130]\n",
    "w = [0.03, 0.08, 0.01]\n",
    "b = -7\n",
    "\n",
    "print(sigma(np.dot(X,w) + b))"
   ]
  }
 ],
 "metadata": {
  "kernelspec": {
   "display_name": "base",
   "language": "python",
   "name": "python3"
  },
  "language_info": {
   "codemirror_mode": {
    "name": "ipython",
    "version": 3
   },
   "file_extension": ".py",
   "mimetype": "text/x-python",
   "name": "python",
   "nbconvert_exporter": "python",
   "pygments_lexer": "ipython3",
   "version": "3.12.4"
  }
 },
 "nbformat": 4,
 "nbformat_minor": 5
}
