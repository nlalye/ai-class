{
 "cells": [
  {
   "cell_type": "code",
   "execution_count": 8,
   "id": "4bcd9ca7",
   "metadata": {},
   "outputs": [
    {
     "name": "stdout",
     "output_type": "stream",
     "text": [
      "[16 12 85]\n"
     ]
    }
   ],
   "source": [
    "import numpy as np\n",
    "\n",
    "arr = np.array([16, 12, 85])\n",
    "print(arr)"
   ]
  },
  {
   "cell_type": "code",
   "execution_count": 11,
   "id": "414e327f",
   "metadata": {},
   "outputs": [
    {
     "name": "stdout",
     "output_type": "stream",
     "text": [
      "[[16 12 95]\n",
      " [17 10 78]\n",
      " [15 14 90]]\n",
      "shape: (3, 3)\n"
     ]
    }
   ],
   "source": [
    "arr_two = np.array([[16,12,95],[17, 10, 78],[15,14,90]])\n",
    "print(arr_two)\n",
    "print(\"shape:\", arr_two.shape)"
   ]
  },
  {
   "cell_type": "code",
   "execution_count": 12,
   "id": "5688c532",
   "metadata": {},
   "outputs": [
    {
     "name": "stdout",
     "output_type": "stream",
     "text": [
      "[ 3  7 11]\n"
     ]
    }
   ],
   "source": [
    "a = np.array([2, 4, 6])\n",
    "b = np.array([1, 3, 5])\n",
    "\n",
    "print(a+b)"
   ]
  },
  {
   "cell_type": "code",
   "execution_count": 13,
   "id": "81e83cd4",
   "metadata": {},
   "outputs": [
    {
     "name": "stdout",
     "output_type": "stream",
     "text": [
      "[ 2 12 30]\n"
     ]
    }
   ],
   "source": [
    "print(a*b)"
   ]
  },
  {
   "cell_type": "code",
   "execution_count": 15,
   "id": "bf5566da",
   "metadata": {},
   "outputs": [
    {
     "name": "stdout",
     "output_type": "stream",
     "text": [
      "3.4000000000000004\n"
     ]
    }
   ],
   "source": [
    "x = [2,3]\n",
    "w = [0.5, 0.8]\n",
    "\n",
    "print(np.dot(x, w))"
   ]
  },
  {
   "cell_type": "code",
   "execution_count": 17,
   "id": "7a9cec91",
   "metadata": {},
   "outputs": [
    {
     "name": "stdout",
     "output_type": "stream",
     "text": [
      "4.6000000000000005\n"
     ]
    }
   ],
   "source": [
    "b = 1.2\n",
    "y_hat = np.dot(x, w) + b\n",
    "print(y_hat)"
   ]
  },
  {
   "cell_type": "code",
   "execution_count": 18,
   "id": "0a77704d",
   "metadata": {},
   "outputs": [
    {
     "name": "stdout",
     "output_type": "stream",
     "text": [
      "[[0.5]\n",
      " [1.1]\n",
      " [1.7]\n",
      " [2.3]]\n"
     ]
    }
   ],
   "source": [
    "X = ([[1,2], [3,4], [5,6], [7,8]])\n",
    "weight = ([[0.1], [0.2]])\n",
    "\n",
    "result = np.matmul(X, weight)\n",
    "print(result)"
   ]
  }
 ],
 "metadata": {
  "kernelspec": {
   "display_name": "base",
   "language": "python",
   "name": "python3"
  },
  "language_info": {
   "codemirror_mode": {
    "name": "ipython",
    "version": 3
   },
   "file_extension": ".py",
   "mimetype": "text/x-python",
   "name": "python",
   "nbconvert_exporter": "python",
   "pygments_lexer": "ipython3",
   "version": "3.12.4"
  }
 },
 "nbformat": 4,
 "nbformat_minor": 5
}
